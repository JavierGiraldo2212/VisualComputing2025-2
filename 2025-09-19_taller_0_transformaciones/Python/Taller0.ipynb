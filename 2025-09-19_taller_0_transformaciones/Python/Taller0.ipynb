{
 "cells": [
  {
   "cell_type": "markdown",
   "id": "7b00452b",
   "metadata": {},
   "source": [
    "**Herramientas**: matplotlib, numpy, imageio\n",
    "\n",
    "1. Crear una figura 2D con puntos o formas."
   ]
  },
  {
   "cell_type": "code",
   "execution_count": 11,
   "id": "d60d891c",
   "metadata": {},
   "outputs": [
    {
     "data": {
      "image/png": "[encoded data removed]",
      "text/plain": [
       "<Figure size 1000x600 with 1 Axes>"
      ]
     },
     "metadata": {},
     "output_type": "display_data"
    }
   ],
   "source": [
    "import numpy as np\n",
    "import matplotlib.pyplot as plt\n",
    "%matplotlib inline\n",
    "\n",
    "# Create a figure and axis\n",
    "fig, ax = plt.subplots(figsize=(10, 6))\n",
    "\n",
    "# Add a triangle\n",
    "triangle_x = [2, 4, 3]\n",
    "triangle_y = [2, 2, 4]\n",
    "ax.plot(triangle_x, triangle_y, color='purple', linewidth=2, label='Triangle')\n",
    "ax.fill(triangle_x, triangle_y, color='purple', alpha=0.3)\n",
    "\n",
    "# Set equal aspect ratio\n",
    "ax.set_aspect('equal')\n",
    "\n",
    "# Add title and labels\n",
    "ax.set_title('2D Figure with Triangle', fontsize=16)\n",
    "ax.set_xlabel('X Axis', fontsize=12)\n",
    "ax.set_ylabel('Y Axis', fontsize=12)\n",
    "\n",
    "# Set limits\n",
    "ax.set_xlim(0, 10)\n",
    "ax.set_ylim(0, 10)\n",
    "\n",
    "# Add grid\n",
    "ax.grid(True, linestyle='--', alpha=0.7)\n",
    "\n",
    "# Add legend\n",
    "ax.legend()\n",
    "\n",
    "plt.tight_layout()\n",
    "plt.show()"
   ]
  },
  {
   "cell_type": "markdown",
   "id": "75d9bf18",
   "metadata": {},
   "source": [
    "2. Aplicar traslación, rotación y escala usando matrices de transformación."
   ]
  },
  {
   "cell_type": "code",
   "execution_count": 12,
   "id": "bd6e14eb",
   "metadata": {},
   "outputs": [],
   "source": [
    "def traslacion(dx, dy):\n",
    "    return np.array([[1, 0, dx],\n",
    "                     [0, 1, dy],\n",
    "                     [0, 0, 1]])\n",
    "def rotacion(theta):\n",
    "    rad = np.radians(theta)\n",
    "    return np.array([[np.cos(rad), -np.sin(rad), 0],\n",
    "                     [np.sin(rad),  np.cos(rad), 0],\n",
    "                     [0, 0, 1]])\n",
    "def escala(sx, sy):\n",
    "    return np.array([[sx, 0, 0],\n",
    "                     [0, sy, 0],\n",
    "                     [0, 0, 1]])"
   ]
  },
  {
   "cell_type": "markdown",
   "id": "57c07c9b",
   "metadata": {},
   "source": [
    "3. Generar una animación (usando bucles o interpolación).\n",
    "4. Animar la transformación en función del tiempo (t) o del frame.\n",
    "5. Exportar como GIF animado con imageio."
   ]
  },
  {
   "cell_type": "code",
   "execution_count": 19,
   "id": "d62cc7b4",
   "metadata": {},
   "outputs": [
    {
     "name": "stderr",
     "output_type": "stream",
     "text": [
      "C:\\Users\\jgira\\AppData\\Local\\Temp\\ipykernel_11128\\590430903.py:84: DeprecationWarning: Starting with ImageIO v3 the behavior of this function will switch to that of iio.v3.imread. To keep the current behavior (and make this warning disappear) use `import imageio.v2 as imageio` or call `imageio.v2.imread` directly.\n",
      "  image = imageio.imread(filename)\n"
     ]
    },
    {
     "name": "stdout",
     "output_type": "stream",
     "text": [
      "GIF animado guardado como: triangle_animation.gif\n"
     ]
    }
   ],
   "source": [
    "import matplotlib.pyplot as plt\n",
    "from matplotlib.animation import FuncAnimation\n",
    "import numpy as np\n",
    "import imageio\n",
    "import os\n",
    "from IPython.display import Image, display\n",
    "\n",
    "# Convertir a coordenadas homogéneas\n",
    "points = np.vstack([triangle_x, triangle_y, np.ones(len(triangle_x))])\n",
    "\n",
    "# Función para aplicar una transformación a los puntos\n",
    "def apply_transform(points, transform_matrix):\n",
    "    return np.dot(transform_matrix, points)\n",
    "\n",
    "# Función para extraer las coordenadas x e y de las coordenadas homogéneas\n",
    "def get_xy(homogeneous_points):\n",
    "    return homogeneous_points[0, :], homogeneous_points[1, :]\n",
    "\n",
    "# Función para crear un frame de la animación\n",
    "def create_frame(frame_num, total_frames):\n",
    "    fig, ax = plt.subplots(figsize=(8, 8))\n",
    "    \n",
    "    # Factor de progreso (0 a 1)\n",
    "    t = frame_num / total_frames\n",
    "    \n",
    "    # Aplicar varias transformaciones en secuencia basadas en el tiempo\n",
    "    \n",
    "    # Primero rotación alrededor del origen\n",
    "    angle = 360 * t\n",
    "    rot_matrix = rotacion(angle)\n",
    "    \n",
    "    # Luego escala pulsante\n",
    "    scale_factor = 1 + 0.5 * np.sin(2 * np.pi * t)\n",
    "    scale_matrix = escala(scale_factor, scale_factor)\n",
    "    \n",
    "    # Finalmente traslación en círculo\n",
    "    tx = 1 + 0.5 * np.cos(2 * np.pi * t)\n",
    "    ty = 1 + 0.5 * np.sin(2 * np.pi * t)\n",
    "    trans_matrix = traslacion(tx, ty)\n",
    "    \n",
    "    # Combinar todas las transformaciones (multiplicar matrices)\n",
    "    transform = np.dot(trans_matrix, np.dot(scale_matrix, rot_matrix))\n",
    "    \n",
    "    # Aplicar la transformación a los puntos del triángulo\n",
    "    transformed_points = apply_transform(points, transform)\n",
    "    transformed_x, transformed_y = get_xy(transformed_points)\n",
    "    \n",
    "    # Dibujar el triángulo transformado\n",
    "    ax.plot(transformed_x, transformed_y, color='purple', linewidth=2)\n",
    "    ax.fill(transformed_x, transformed_y, color='purple', alpha=0.3)\n",
    "    \n",
    "    # Configurar los límites y aspecto del gráfico\n",
    "    ax.set_xlim(-10, 10)\n",
    "    ax.set_ylim(-10, 10)\n",
    "    ax.set_aspect('equal')\n",
    "    ax.grid(True, linestyle='--', alpha=0.7)\n",
    "    ax.set_title(f'Frame {frame_num}: Transformación del Triángulo', fontsize=12)\n",
    "    # mostrar ejes\n",
    "    ax.axhline(0, color='black',linewidth=0.5, ls='-')\n",
    "    ax.axvline(0, color='black',linewidth=0.5, ls='-')\n",
    "\n",
    "    # Guardar la figura como una imagen\n",
    "    filename = f'frame_{frame_num:03d}.png'\n",
    "    plt.savefig(filename)\n",
    "    plt.close(fig)\n",
    "    return filename\n",
    "\n",
    "# Crear directorio temporal para los frames si no existe\n",
    "frames_dir = 'temp_frames'\n",
    "if not os.path.exists(frames_dir):\n",
    "    os.makedirs(frames_dir)\n",
    "\n",
    "# Crear frames\n",
    "num_frames = 60\n",
    "filenames = []\n",
    "for i in range(num_frames):\n",
    "    filename = create_frame(i, num_frames - 1)\n",
    "    filenames.append(filename)\n",
    "\n",
    "# Crear el GIF animado\n",
    "gif_path = 'triangle_animation.gif'\n",
    "with imageio.get_writer(gif_path, mode='I', duration=0.1, loop =0) as writer:\n",
    "    for filename in filenames:\n",
    "        image = imageio.imread(filename)\n",
    "        writer.append_data(image)\n",
    "        \n",
    "# Limpiar archivos temporales\n",
    "for filename in filenames:\n",
    "    os.remove(filename)\n",
    "\n",
    "# Mostrar el GIF\n",
    "# display(Image(filename=gif_path))\n",
    "print(f\"GIF animado guardado como: {gif_path}\")"
   ]
  },
  {
   "cell_type": "markdown",
   "id": "9ac17976",
   "metadata": {},
   "source": [
    "![gif del triangulo](triangle_animation.gif)"
   ]
  }
 ],
 "metadata": {
  "kernelspec": {
   "display_name": "base",
   "language": "python",
   "name": "python3"
  },
  "language_info": {
   "codemirror_mode": {
    "name": "ipython",
    "version": 3
   },
   "file_extension": ".py",
   "mimetype": "text/x-python",
   "name": "python",
   "nbconvert_exporter": "python",
   "pygments_lexer": "ipython3",
   "version": "3.13.5"
  }
 },
 "nbformat": 4,
 "nbformat_minor": 5
}
